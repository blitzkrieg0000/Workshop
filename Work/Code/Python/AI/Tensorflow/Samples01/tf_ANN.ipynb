{
 "cells": [
  {
   "cell_type": "markdown",
   "metadata": {},
   "source": [
    "<h4>Imports</h4><hr>"
   ]
  },
  {
   "cell_type": "code",
   "execution_count": null,
   "metadata": {},
   "outputs": [],
   "source": [
    "import os\n",
    "os.environ['TF_CPP_MIN_LOG_LEVEL'] = '2'\n",
    "\n",
    "import tensorflow as tf\n",
    "physical_devices = tf.config.list_physical_devices('GPU')\n",
    "tf.config.experimental.set_memory_growth(physical_devices[0], True)\n",
    "\n",
    "from tensorflow import keras\n",
    "from tensorflow.keras import layers"
   ]
  },
  {
   "cell_type": "markdown",
   "metadata": {},
   "source": [
    "<h4>Load Dataset && Reshape</h4><hr>"
   ]
  },
  {
   "cell_type": "code",
   "execution_count": null,
   "metadata": {},
   "outputs": [],
   "source": [
    "#from tensorflow.keras.datasets import mnist\n",
    "(x_train, y_train), (x_test, y_test) = keras.datasets.mnist.load_data()\n",
    "\n",
    "#x_train(60000, 28, 28) --> x_train(60000, 784)   \n",
    "x_train = x_train.reshape(-1, 28*28).astype(\"float32\") / 255.0 #Resimleri flatten dataya çevirdik #-1 belirtilmediği zaman otomatik girilmesini sağlıyor.\n",
    "x_test = x_test.reshape(-1, 28*28).astype(\"float32\") / 255.0\n",
    "\n",
    "#numpy array ise tensora çevirmek için\n",
    "#x_train = tf.convert_to_tensor(x_train) "
   ]
  },
  {
   "cell_type": "markdown",
   "metadata": {},
   "source": [
    "<h4>Model Layerlarını Oluşturma</h4><hr>"
   ]
  },
  {
   "cell_type": "markdown",
   "metadata": {},
   "source": [
    "<li>Yöntem-1 Efektif Olmayan</li>"
   ]
  },
  {
   "cell_type": "code",
   "execution_count": null,
   "metadata": {},
   "outputs": [],
   "source": [
    "#Bu yöntem ile dizi elemanları arka arkaya node olarak eklenir.\n",
    "model = keras.Sequential([\n",
    "    keras.Input(shape=(28*28)),                                     #Input Layer\n",
    "    layers.Dense(512, activation=\"relu\"),                           #Layer-1\n",
    "    layers.Dense(256, activation=\"relu\"),                           #Layer-2\n",
    "    layers.Dense(10)                                                #Output Layer\n",
    "])\n",
    "\n",
    "\"\"\"Yöntem 1 ve 2 de layerlar atandıktan sonra sonra model oluşturulur.\"\"\"\n",
    "#arg: outputs = model.layers[-2] | model.get_layer('my_layer').output; \n",
    "#model.layers: Tüm layer isimlerini verir.\n",
    "model = keras.Model(\n",
    "    inputs=model.inputs,\n",
    "    outputs=[layer.output for layer in model.layers]\n",
    ")"
   ]
  },
  {
   "cell_type": "markdown",
   "metadata": {},
   "source": [
    "<li>Yöntem-2 Yarı Efektif</li>"
   ]
  },
  {
   "cell_type": "code",
   "execution_count": null,
   "metadata": {},
   "outputs": [],
   "source": [
    "model = keras.Sequential()\n",
    "model.add(keras.Input(shape=(784)))                                 #Input Layer\n",
    "model.add(layers.Dense(512, activation=\"relu\"))                     #Layer-1\n",
    "model.add(layers.Dense(256, activation=\"relu\", name=\"my_layer\"))    #Layer-2\n",
    "model.add(layers.Dense(10))                                         #Output Layer\n",
    "\n",
    "#Model Özeti Çıkarmak İçin\n",
    "#print(model.summary())\n",
    "\n",
    "\"\"\"Yöntem 1 ve 2 de layerlar atandıktan sonra sonra model oluşturulur.\"\"\"\n",
    "#arg: outputs = model.layers[-2] | model.get_layer('my_layer').output; \n",
    "#model.layers: Tüm layer isimlerini verir.\n",
    "model = keras.Model(\n",
    "    inputs=model.inputs,\n",
    "    outputs=[layer.output for layer in model.layers]\n",
    ")"
   ]
  },
  {
   "cell_type": "markdown",
   "metadata": {},
   "source": [
    "<li>Yöntem-3 Tercih Edilen</li>"
   ]
  },
  {
   "cell_type": "code",
   "execution_count": null,
   "metadata": {},
   "outputs": [],
   "source": [
    "inputs = keras.Input(shape=(784))                                      #Input Layer\n",
    "x = layers.Dense(512, activation=\"relu\", name=\"first_layer\")(inputs)   #Layer-1\n",
    "x = layers.Dense(256, activation=\"relu\", name=\"second_layer\")(x)       #Layer-2\n",
    "outputs = layers.Dense(10, activation=\"softmax\")(x)                    #Output Layer\n",
    "#Model Oluşturulur.\n",
    "model = keras.Model(inputs=inputs, outputs=outputs)\n",
    "\n"
   ]
  },
  {
   "cell_type": "markdown",
   "metadata": {},
   "source": [
    "<h4>Compile Model (Loss fonksiyonu ve Backward fonksiyonu ekleme)</h4>"
   ]
  },
  {
   "cell_type": "code",
   "execution_count": null,
   "metadata": {},
   "outputs": [],
   "source": [
    "model.compile(loss=keras.losses.SparseCategoricalCrossentropy(from_logits=False), #from_logits=Bu değer sayesinde son çıkıştaki değerleri ilk önce softmax fonksiyonundan geçirmiş oluruz. CategoricalCrossentropy olsaydı ise one-hot encode şeklinde class larımızı verirdik.\n",
    "              optimizer=keras.optimizers.Adam(lr=0.001),\n",
    "              metrics=[keras.metrics.SparseCategoricalAccuracy()]\n",
    ")"
   ]
  },
  {
   "cell_type": "markdown",
   "metadata": {},
   "source": [
    "<h4>Model Eğitimi</h4>"
   ]
  },
  {
   "cell_type": "code",
   "execution_count": null,
   "metadata": {},
   "outputs": [],
   "source": [
    "model.fit(x_train, y_train, batch_size=32, epochs=5, verbose=2)"
   ]
  },
  {
   "cell_type": "markdown",
   "metadata": {},
   "source": [
    "<h4>Model Evaluate - Test</h4>"
   ]
  },
  {
   "cell_type": "code",
   "execution_count": null,
   "metadata": {},
   "outputs": [],
   "source": [
    "model.evaluate(x_test, y_test, batch_size=32, verbose=2)"
   ]
  },
  {
   "cell_type": "markdown",
   "metadata": {},
   "source": [
    "<h4>Inference(Forward) Model</h4>"
   ]
  },
  {
   "cell_type": "code",
   "execution_count": null,
   "metadata": {},
   "outputs": [],
   "source": [
    "features = model.predict(x_train)\n",
    "for feature in features:\n",
    "    print(feature.shape)"
   ]
  }
 ],
 "metadata": {
  "interpreter": {
   "hash": "1a49d57f5559b88d585c11a5876925bab4f9ebb28c4e26af8ffc111187dac226"
  },
  "kernelspec": {
   "display_name": "Python 3.8.12 ('GPU')",
   "language": "python",
   "name": "python3"
  },
  "language_info": {
   "codemirror_mode": {
    "name": "ipython",
    "version": 3
   },
   "file_extension": ".py",
   "mimetype": "text/x-python",
   "name": "python",
   "nbconvert_exporter": "python",
   "pygments_lexer": "ipython3",
   "version": "3.8.12"
  },
  "orig_nbformat": 4
 },
 "nbformat": 4,
 "nbformat_minor": 2
}
