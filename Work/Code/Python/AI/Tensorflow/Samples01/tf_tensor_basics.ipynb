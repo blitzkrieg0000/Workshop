{
 "cells": [
  {
   "cell_type": "code",
   "execution_count": null,
   "metadata": {},
   "outputs": [],
   "source": [
    "import os\n",
    "os.environ['TF_CPP_MIN_LOG_LEVEL'] = '2'\n",
    "\n",
    "import tensorflow as tf\n",
    "physical_devices = tf.config.list_physical_devices('GPU')\n",
    "tf.config.experimental.set_memory_growth(physical_devices[0], True)"
   ]
  },
  {
   "cell_type": "code",
   "execution_count": null,
   "metadata": {},
   "outputs": [],
   "source": [
    "x = tf.constant(4, shape=(1, 1), dtype=tf.float32)\n",
    "x = tf.constant([[1,2,3],[4,5,6]])\n",
    "\n",
    "x = tf.ones((3,3))\n",
    "x = tf.zeros((2, 3))\n",
    "x = tf.eye(3)\n",
    "\n",
    "x = tf.random.normal((3,3), mean=0, stddev=1)\n",
    "x = tf.random.uniform((1,3), minval=0, maxval=1)\n",
    "x = tf.range(start=1, limit=10, delta=2) #delta=step\n",
    "\n",
    "x = tf.cast(x, dtype=tf.float64)"
   ]
  },
  {
   "cell_type": "code",
   "execution_count": null,
   "metadata": {},
   "outputs": [],
   "source": [
    "\n",
    "#Matematiksel İşlemler\n",
    "x = tf.constant([1, 2, 3])\n",
    "y = tf.constant([9, 8, 7])\n",
    "\n",
    "z = tf.add(x, y) #= x + y\n",
    "z = tf.subtract(x, y) #= x - y\n",
    "z  = tf.divide(x, y) #= x / y\n",
    "z = tf.multiply(x, y) #= x * y\n",
    "\n",
    "z = tf.tensordot(x, y, axes=1)\n",
    "z = tf.reduce_sum(x*y, axis=0)\n",
    "\n",
    "x = tf.random.normal((2, 3))\n",
    "y = tf.random.normal((3, 4))\n",
    "z = tf.matmul(x, y)\n",
    "z = x @ y\n",
    "\n",
    "#x[::-1] diziyi ters çevirmeye yarar\n",
    "\n",
    "\n",
    "x = tf.constant([0, 1, 1, 2, 3, 1, 2, 3])\n",
    "\n",
    "indices = tf.constant([0, 3])\n",
    "x_ind = tf.gather(x, indices) #default=sayının ilk bulduğu indisi alır.\n",
    "\n",
    "z = tf.constant([\n",
    "                 [1,2],\n",
    "                 [3,4],\n",
    "                 [5,6]\n",
    "                ])\n",
    "\n",
    "#Reshape\n",
    "x = tf.constant([0, 1, 1, 2, 3, 1, 2, 3, 4])\n",
    "x = tf.reshape(x, (3,3))\n",
    "print(x)\n",
    "\n",
    "z = tf.transpose(x, perm=[1,0]) #perm=değiştirilecek axisleri belirler, verilmezse verilen matrixin rankı ile bu parametre belirlenir.\n",
    "print(z)"
   ]
  }
 ],
 "metadata": {
  "language_info": {
   "name": "python"
  },
  "orig_nbformat": 4
 },
 "nbformat": 4,
 "nbformat_minor": 2
}
